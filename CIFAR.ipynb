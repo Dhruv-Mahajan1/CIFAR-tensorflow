{
  "nbformat": 4,
  "nbformat_minor": 0,
  "metadata": {
    "colab": {
      "name": "CIFAR.ipynb",
      "provenance": [],
      "collapsed_sections": [],
      "toc_visible": true,
      "authorship_tag": "ABX9TyNx3f/lhOfL3bye3wuZ+MTb",
      "include_colab_link": true
    },
    "kernelspec": {
      "name": "python3",
      "display_name": "Python 3"
    },
    "language_info": {
      "name": "python"
    }
  },
  "cells": [
    {
      "cell_type": "markdown",
      "metadata": {
        "id": "view-in-github",
        "colab_type": "text"
      },
      "source": [
        "<a href=\"https://colab.research.google.com/github/Dhruv-Mahajan1/CIFAR-tensorflow/blob/main/CIFAR.ipynb\" target=\"_parent\"><img src=\"https://colab.research.google.com/assets/colab-badge.svg\" alt=\"Open In Colab\"/></a>"
      ]
    },
    {
      "cell_type": "code",
      "metadata": {
        "id": "NxXgY507kZ1Y"
      },
      "source": [
        "%tensorflow_version 2.x\n",
        "import tensorflow as tf\n",
        "\n"
      ],
      "execution_count": null,
      "outputs": []
    },
    {
      "cell_type": "code",
      "metadata": {
        "id": "GECoArojkuvI"
      },
      "source": [
        "import numpy as np\n",
        "import matplotlib.pyplot as plt\n",
        "from tensorflow.keras import datasets,layers,models"
      ],
      "execution_count": null,
      "outputs": []
    },
    {
      "cell_type": "code",
      "metadata": {
        "id": "zGamEm6Wl8am"
      },
      "source": [
        "#  LOAD AND SPLIT DATASET\n",
        "(train_images, train_labels), (test_images, test_labels) = datasets.cifar10.load_data()\n",
        "\n",
        "# Normalize pixel values to be between 0 and 1\n",
        "train_images, test_images = train_images / 255.0, test_images / 255.0\n",
        "\n",
        "class_names = ['airplane', 'automobile', 'bird', 'cat', 'deer',\n",
        "               'dog', 'frog', 'horse', 'ship', 'truck']"
      ],
      "execution_count": null,
      "outputs": []
    },
    {
      "cell_type": "code",
      "metadata": {
        "colab": {
          "base_uri": "https://localhost:8080/"
        },
        "id": "ra4XIZTKt9Dh",
        "outputId": "e7f0a877-1869-493e-ab61-fda5e01d1809"
      },
      "source": [
        "print(train_images.shape)"
      ],
      "execution_count": null,
      "outputs": [
        {
          "output_type": "stream",
          "text": [
            "(50000, 32, 32, 3)\n"
          ],
          "name": "stdout"
        }
      ]
    },
    {
      "cell_type": "code",
      "metadata": {
        "colab": {
          "base_uri": "https://localhost:8080/",
          "height": 266
        },
        "id": "BiQoKd5SntlH",
        "outputId": "ab9dd6a8-0230-437d-ad7c-85eb7c719f07"
      },
      "source": [
        "plt.figure()\n",
        "plt.imshow(train_images[6])\n",
        "plt.colorbar()\n",
        "plt.grid(False)\n",
        "plt.show()"
      ],
      "execution_count": null,
      "outputs": [
        {
          "output_type": "display_data",
          "data": {
            "image/png": "[encoded data removed]",
            "text/plain": [
              "<Figure size 432x288 with 2 Axes>"
            ]
          },
          "metadata": {
            "tags": [],
            "needs_background": "light"
          }
        }
      ]
    },
    {
      "cell_type": "code",
      "metadata": {
        "colab": {
          "base_uri": "https://localhost:8080/",
          "height": 280
        },
        "id": "DISAE87hnz3z",
        "outputId": "012e9b2a-b55d-40cd-88ec-b553a0761f13"
      },
      "source": [
        "IMG_INDEX = 6  # change this to look at other images\n",
        "\n",
        "plt.imshow(train_images[IMG_INDEX] ,cmap=plt.cm.binary)\n",
        "plt.xlabel(class_names[train_labels[IMG_INDEX][0]])\n",
        "plt.show()"
      ],
      "execution_count": null,
      "outputs": [
        {
          "output_type": "display_data",
          "data": {
            "image/png": "[encoded data removed]",
            "text/plain": [
              "<Figure size 432x288 with 1 Axes>"
            ]
          },
          "metadata": {
            "tags": [],
            "needs_background": "light"
          }
        }
      ]
    },
    {
      "cell_type": "markdown",
      "metadata": {
        "id": "m_W0AV84n4Bl"
      },
      "source": [
        "CNN Architecture\n"
      ]
    },
    {
      "cell_type": "code",
      "metadata": {
        "id": "qa6FQkkTn7p2"
      },
      "source": [
        "model = models.Sequential()\n",
        "model.add(layers.Conv2D(32, (3, 3), activation='relu', input_shape=(32, 32, 3)))\n",
        "model.add(layers.MaxPooling2D((2, 2)))\n",
        "model.add(layers.Conv2D(64, (3, 3), activation='relu'))\n",
        "model.add(layers.MaxPooling2D((2, 2)))\n",
        "model.add(layers.Conv2D(64, (3, 3), activation='relu'))"
      ],
      "execution_count": null,
      "outputs": []
    },
    {
      "cell_type": "code",
      "metadata": {
        "colab": {
          "base_uri": "https://localhost:8080/"
        },
        "id": "e9542xwfpCg1",
        "outputId": "83154eff-bd78-401a-a543-fd9582b22134"
      },
      "source": [
        "model.summary()"
      ],
      "execution_count": null,
      "outputs": [
        {
          "output_type": "stream",
          "text": [
            "Model: \"sequential_1\"\n",
            "_________________________________________________________________\n",
            "Layer (type)                 Output Shape              Param #   \n",
            "=================================================================\n",
            "conv2d_3 (Conv2D)            (None, 30, 30, 32)        896       \n",
            "_________________________________________________________________\n",
            "max_pooling2d_2 (MaxPooling2 (None, 15, 15, 32)        0         \n",
            "_________________________________________________________________\n",
            "conv2d_4 (Conv2D)            (None, 13, 13, 64)        18496     \n",
            "_________________________________________________________________\n",
            "max_pooling2d_3 (MaxPooling2 (None, 6, 6, 64)          0         \n",
            "_________________________________________________________________\n",
            "conv2d_5 (Conv2D)            (None, 4, 4, 64)          36928     \n",
            "=================================================================\n",
            "Total params: 56,320\n",
            "Trainable params: 56,320\n",
            "Non-trainable params: 0\n",
            "_________________________________________________________________\n"
          ],
          "name": "stdout"
        }
      ]
    },
    {
      "cell_type": "markdown",
      "metadata": {
        "id": "pH2ekwbWpuaQ"
      },
      "source": [
        "adding dense layers\n"
      ]
    },
    {
      "cell_type": "code",
      "metadata": {
        "id": "JULm0DSnpxNu"
      },
      "source": [
        "model.add(layers.Flatten())\n",
        "model.add(layers.Dense(64,activation='relu'))\n",
        "model.add(layers.Dense(10))"
      ],
      "execution_count": null,
      "outputs": []
    },
    {
      "cell_type": "code",
      "metadata": {
        "colab": {
          "base_uri": "https://localhost:8080/"
        },
        "id": "mQvnw20jqPHs",
        "outputId": "514c7973-586c-41cc-9936-8267bf6ef8e1"
      },
      "source": [
        "model.summary()"
      ],
      "execution_count": null,
      "outputs": [
        {
          "output_type": "stream",
          "text": [
            "Model: \"sequential_1\"\n",
            "_________________________________________________________________\n",
            "Layer (type)                 Output Shape              Param #   \n",
            "=================================================================\n",
            "conv2d_3 (Conv2D)            (None, 30, 30, 32)        896       \n",
            "_________________________________________________________________\n",
            "max_pooling2d_2 (MaxPooling2 (None, 15, 15, 32)        0         \n",
            "_________________________________________________________________\n",
            "conv2d_4 (Conv2D)            (None, 13, 13, 64)        18496     \n",
            "_________________________________________________________________\n",
            "max_pooling2d_3 (MaxPooling2 (None, 6, 6, 64)          0         \n",
            "_________________________________________________________________\n",
            "conv2d_5 (Conv2D)            (None, 4, 4, 64)          36928     \n",
            "_________________________________________________________________\n",
            "flatten (Flatten)            (None, 1024)              0         \n",
            "_________________________________________________________________\n",
            "dense (Dense)                (None, 64)                65600     \n",
            "_________________________________________________________________\n",
            "dense_1 (Dense)              (None, 10)                650       \n",
            "=================================================================\n",
            "Total params: 122,570\n",
            "Trainable params: 122,570\n",
            "Non-trainable params: 0\n",
            "_________________________________________________________________\n"
          ],
          "name": "stdout"
        }
      ]
    },
    {
      "cell_type": "markdown",
      "metadata": {
        "id": "DrMJJHaOqWwm"
      },
      "source": [
        "Trainning model"
      ]
    },
    {
      "cell_type": "code",
      "metadata": {
        "colab": {
          "base_uri": "https://localhost:8080/"
        },
        "id": "mycRVGqDqV-v",
        "outputId": "581886b5-6388-437f-91d8-3c3ecaf81fa0"
      },
      "source": [
        "model.compile(optimizer='adam',\n",
        "              loss=tf.keras.losses.SparseCategoricalCrossentropy(from_logits=True),\n",
        "              metrics=['accuracy'])\n",
        "model.fit(train_images,train_labels,epochs=20)"
      ],
      "execution_count": null,
      "outputs": [
        {
          "output_type": "stream",
          "text": [
            "Epoch 1/10\n",
            "1563/1563 [==============================] - 65s 41ms/step - loss: 1.7607 - accuracy: 0.3466\n",
            "Epoch 2/10\n",
            "1563/1563 [==============================] - 63s 40ms/step - loss: 1.1928 - accuracy: 0.5755\n",
            "Epoch 3/10\n",
            "1563/1563 [==============================] - 63s 40ms/step - loss: 1.0264 - accuracy: 0.6403\n",
            "Epoch 4/10\n",
            "1563/1563 [==============================] - 63s 41ms/step - loss: 0.9171 - accuracy: 0.6754\n",
            "Epoch 5/10\n",
            "1563/1563 [==============================] - 64s 41ms/step - loss: 0.8431 - accuracy: 0.7047\n",
            "Epoch 6/10\n",
            "1563/1563 [==============================] - 64s 41ms/step - loss: 0.7876 - accuracy: 0.7249\n",
            "Epoch 7/10\n",
            "1563/1563 [==============================] - 64s 41ms/step - loss: 0.7209 - accuracy: 0.7462\n",
            "Epoch 8/10\n",
            "1563/1563 [==============================] - 64s 41ms/step - loss: 0.6808 - accuracy: 0.7630\n",
            "Epoch 9/10\n",
            "1563/1563 [==============================] - 64s 41ms/step - loss: 0.6434 - accuracy: 0.7738\n",
            "Epoch 10/10\n",
            "1563/1563 [==============================] - 64s 41ms/step - loss: 0.6107 - accuracy: 0.7852\n"
          ],
          "name": "stdout"
        },
        {
          "output_type": "execute_result",
          "data": {
            "text/plain": [
              "<tensorflow.python.keras.callbacks.History at 0x7f722b6dfd10>"
            ]
          },
          "metadata": {
            "tags": []
          },
          "execution_count": 26
        }
      ]
    },
    {
      "cell_type": "code",
      "metadata": {
        "id": "tHiGkCvWtklq"
      },
      "source": [
        ""
      ],
      "execution_count": null,
      "outputs": []
    },
    {
      "cell_type": "code",
      "metadata": {
        "colab": {
          "base_uri": "https://localhost:8080/"
        },
        "id": "mkevKWEXtW8f",
        "outputId": "75021dd3-a8b7-4ee9-fe1a-993f4b17781a"
      },
      "source": [
        "loss,accuracy = model.evaluate(test_images,  test_labels, verbose=2)\n",
        "print(accuracy)"
      ],
      "execution_count": null,
      "outputs": [
        {
          "output_type": "stream",
          "text": [
            "313/313 - 4s - loss: 0.9098 - accuracy: 0.6965\n",
            "0.6965000033378601\n"
          ],
          "name": "stdout"
        }
      ]
    },
    {
      "cell_type": "code",
      "metadata": {
        "colab": {
          "base_uri": "https://localhost:8080/"
        },
        "id": "R-sbYNFJtl1N",
        "outputId": "2b97cd26-adaa-4bba-c569-fa99a59505c4"
      },
      "source": [
        "model.compile(optimizer='adam',\n",
        "              loss=tf.keras.losses.SparseCategoricalCrossentropy(from_logits=True),\n",
        "              metrics=['accuracy'])\n",
        "model.fit(train_images,train_labels,epochs=3)"
      ],
      "execution_count": null,
      "outputs": [
        {
          "output_type": "stream",
          "text": [
            "Epoch 1/3\n",
            "1563/1563 [==============================] - 64s 41ms/step - loss: 0.5726 - accuracy: 0.7975\n",
            "Epoch 2/3\n",
            "1563/1563 [==============================] - 63s 41ms/step - loss: 0.5254 - accuracy: 0.8141\n",
            "Epoch 3/3\n",
            "1563/1563 [==============================] - 64s 41ms/step - loss: 0.4995 - accuracy: 0.8236\n"
          ],
          "name": "stdout"
        },
        {
          "output_type": "execute_result",
          "data": {
            "text/plain": [
              "<tensorflow.python.keras.callbacks.History at 0x7f72286752d0>"
            ]
          },
          "metadata": {
            "tags": []
          },
          "execution_count": 29
        }
      ]
    },
    {
      "cell_type": "code",
      "metadata": {
        "colab": {
          "base_uri": "https://localhost:8080/"
        },
        "id": "reR1_Hautq8e",
        "outputId": "c356f43b-bf69-4190-8231-4deaf5a6c050"
      },
      "source": [
        "loss,accuracy = model.evaluate(test_images,  test_labels, verbose=2)\n",
        "print(accuracy*100)"
      ],
      "execution_count": null,
      "outputs": [
        {
          "output_type": "stream",
          "text": [
            "313/313 - 4s - loss: 0.9187 - accuracy: 0.7107\n",
            "71.069997549057\n"
          ],
          "name": "stdout"
        }
      ]
    },
    {
      "cell_type": "code",
      "metadata": {
        "colab": {
          "base_uri": "https://localhost:8080/"
        },
        "id": "7-LtKxGdx6Pu",
        "outputId": "a0b696da-2146-40d9-ad21-fc47755bab70"
      },
      "source": [
        "model.compile(optimizer='adam',\n",
        "              loss=tf.keras.losses.SparseCategoricalCrossentropy(from_logits=True),\n",
        "              metrics=['accuracy'])\n",
        "model.fit(train_images,train_labels,epochs=20)"
      ],
      "execution_count": null,
      "outputs": [
        {
          "output_type": "stream",
          "text": [
            "Epoch 1/20\n",
            "1563/1563 [==============================] - 64s 41ms/step - loss: 0.4689 - accuracy: 0.8348\n",
            "Epoch 2/20\n",
            "1563/1563 [==============================] - 62s 40ms/step - loss: 0.4364 - accuracy: 0.8464\n",
            "Epoch 3/20\n",
            "1563/1563 [==============================] - 62s 40ms/step - loss: 0.4092 - accuracy: 0.8545\n",
            "Epoch 4/20\n",
            "1563/1563 [==============================] - 62s 40ms/step - loss: 0.3809 - accuracy: 0.8651\n",
            "Epoch 5/20\n",
            "1563/1563 [==============================] - 62s 40ms/step - loss: 0.3631 - accuracy: 0.8717\n",
            "Epoch 6/20\n",
            "1563/1563 [==============================] - 62s 40ms/step - loss: 0.3375 - accuracy: 0.8804\n",
            "Epoch 7/20\n",
            "1563/1563 [==============================] - 63s 40ms/step - loss: 0.3095 - accuracy: 0.8878\n",
            "Epoch 8/20\n",
            "1563/1563 [==============================] - 63s 41ms/step - loss: 0.2911 - accuracy: 0.8970\n",
            "Epoch 9/20\n",
            "1563/1563 [==============================] - 63s 41ms/step - loss: 0.2737 - accuracy: 0.9017\n",
            "Epoch 10/20\n",
            "1563/1563 [==============================] - 63s 40ms/step - loss: 0.2567 - accuracy: 0.9085\n",
            "Epoch 11/20\n",
            "1563/1563 [==============================] - 63s 40ms/step - loss: 0.2409 - accuracy: 0.9137\n",
            "Epoch 12/20\n",
            "1563/1563 [==============================] - 63s 40ms/step - loss: 0.2395 - accuracy: 0.9151\n",
            "Epoch 13/20\n",
            "1563/1563 [==============================] - 64s 41ms/step - loss: 0.2105 - accuracy: 0.9247\n",
            "Epoch 14/20\n",
            "1563/1563 [==============================] - 63s 40ms/step - loss: 0.2060 - accuracy: 0.9249\n",
            "Epoch 15/20\n",
            "1563/1563 [==============================] - 64s 41ms/step - loss: 0.1987 - accuracy: 0.9283\n",
            "Epoch 16/20\n",
            "1563/1563 [==============================] - 63s 40ms/step - loss: 0.1855 - accuracy: 0.9340\n",
            "Epoch 17/20\n",
            "1563/1563 [==============================] - 63s 40ms/step - loss: 0.1845 - accuracy: 0.9348\n",
            "Epoch 18/20\n",
            "1563/1563 [==============================] - 64s 41ms/step - loss: 0.1667 - accuracy: 0.9404\n",
            "Epoch 19/20\n",
            "1563/1563 [==============================] - 63s 40ms/step - loss: 0.1580 - accuracy: 0.9445\n",
            "Epoch 20/20\n",
            "1563/1563 [==============================] - 63s 40ms/step - loss: 0.1527 - accuracy: 0.9466\n"
          ],
          "name": "stdout"
        },
        {
          "output_type": "execute_result",
          "data": {
            "text/plain": [
              "<tensorflow.python.keras.callbacks.History at 0x7f72274ef410>"
            ]
          },
          "metadata": {
            "tags": []
          },
          "execution_count": 33
        }
      ]
    },
    {
      "cell_type": "code",
      "metadata": {
        "colab": {
          "base_uri": "https://localhost:8080/"
        },
        "id": "MRRFFFRNx8rl",
        "outputId": "fefd24ac-53e5-4472-9bbf-d0fdc14219ec"
      },
      "source": [
        "loss,accuracy = model.evaluate(test_images,  test_labels, verbose=2)\n",
        "print(accuracy*100)"
      ],
      "execution_count": null,
      "outputs": [
        {
          "output_type": "stream",
          "text": [
            "313/313 - 4s - loss: 1.9362 - accuracy: 0.6887\n",
            "68.8700020313263\n"
          ],
          "name": "stdout"
        }
      ]
    }
  ]
}